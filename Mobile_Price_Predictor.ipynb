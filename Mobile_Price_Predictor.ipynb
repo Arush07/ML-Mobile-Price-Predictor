{
  "nbformat": 4,
  "nbformat_minor": 0,
  "metadata": {
    "colab": {
      "name": "Mobile-Price-Predictor.ipynb",
      "provenance": [],
      "collapsed_sections": [],
      "authorship_tag": "ABX9TyNaE4nH3KF3L3+6V5G9Ec5D",
      "include_colab_link": true
    },
    "kernelspec": {
      "name": "python3",
      "display_name": "Python 3"
    }
  },
  "cells": [
    {
      "cell_type": "markdown",
      "metadata": {
        "id": "view-in-github",
        "colab_type": "text"
      },
      "source": [
        "<a href=\"https://colab.research.google.com/github/Arush07/ML-Mobile-Price-Predictor/blob/master/Mobile_Price_Predictor.ipynb\" target=\"_parent\"><img src=\"https://colab.research.google.com/assets/colab-badge.svg\" alt=\"Open In Colab\"/></a>"
      ]
    },
    {
      "cell_type": "code",
      "metadata": {
        "id": "I9mBH4qlkW5Q",
        "colab_type": "code",
        "colab": {}
      },
      "source": [
        "import pandas as pd\n",
        "import numpy as np\n",
        "import matplotlib.pyplot as plt\n",
        "from sklearn.ensemble import ExtraTreesClassifier\n",
        "from sklearn.model_selection import train_test_split\n",
        "from sklearn.neighbors import KNeighborsClassifier\n",
        "from sklearn.model_selection import GridSearchCV\n",
        "df=pd.read_csv('mobile.csv')\n",
        "labels=['Low Cost','Medium Cost','High Cost','Very High Cost']\n",
        "X=df.drop('price_range', axis=1).values\n",
        "y=df['price_range'].values\n",
        "X_train, X_test, y_train, y_test= train_test_split(X,y,test_size=0.3, random_state=42)\n",
        "\"\"\"extcl=ExtraTreesClassifier()\n",
        "extcl.fit(X,y)\n",
        "plt.figure()\n",
        "plt.plot(df.columns[:20], extcl.feature_importances_)\n",
        "plt.xticks(rotation=90)\n",
        "plt.show()\"\"\"\n",
        "param_grid={'n_neighbors':np.arange(1,30)}\n",
        "knn=KNeighborsClassifier(n_neighbors=11)\n",
        "\"\"\"knn_cv=GridSearchCV(knn, param_grid, cv=5)\n",
        "knn_cv.fit(X,y)\n",
        "print(knn_cv.best_params_)\n",
        "print(knn_cv.best_score_)\"\"\"\n",
        "knn.fit(X_train,y_train)\n",
        "y_pred=knn.predict(X_test)\n",
        "\n",
        "for j in range(20):\n",
        "  \n",
        "  plt.figure()\n",
        "  plt.title(df.columns[j])\n",
        "  plt.ylabel('Mean '+ df.columns[j])\n",
        "\n",
        "  for i in range(4):\n",
        "    lst=[]\n",
        "  \n",
        "   \n",
        "    for k in range(600):\n",
        "      if y_pred[k]==i:\n",
        "        lst.append(X_test[:,j][k])\n",
        "      \n",
        "    plt.bar(labels[i], np.mean(lst))\n",
        "    \n",
        "    \n",
        "plt.show()\n",
        "\n",
        "  \n",
        "  \n",
        "  \n",
        "  \n",
        "\n",
        "\n",
        "\n",
        "\n",
        "\n",
        "\n",
        "    \n",
        "\n",
        "\n",
        "\n",
        "\n"
      ],
      "execution_count": 0,
      "outputs": []
    }
  ]
}